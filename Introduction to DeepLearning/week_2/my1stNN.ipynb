{
 "cells": [
  {
   "cell_type": "code",
   "execution_count": 100,
   "metadata": {},
   "outputs": [
    {
     "name": "stdout",
     "output_type": "stream",
     "text": [
      "(50000, 28, 28) (50000,)\n"
     ]
    },
    {
     "data": {
      "image/png": "[encoded data removed]",
      "text/plain": [
       "<matplotlib.figure.Figure at 0x7f8d7d17be10>"
      ]
     },
     "metadata": {},
     "output_type": "display_data"
    }
   ],
   "source": [
    "from preprocessed_mnist import load_dataset\n",
    "X_train, y_train, X_val, y_val, X_test, y_test = load_dataset()\n",
    "print(X_train.shape, y_train.shape)\n",
    "import matplotlib.pyplot as plt\n",
    "%matplotlib inline\n",
    "plt.imshow(X_train[0], cmap=\"Greys\");"
   ]
  },
  {
   "cell_type": "code",
   "execution_count": 101,
   "metadata": {
    "collapsed": true
   },
   "outputs": [],
   "source": [
    "X_train = X_train.reshape([50000, 784])\n",
    "X_test = X_test.reshape([10000, 784])\n",
    "X_val = X_val.reshape([-1, 784])\n",
    "y_train = np.eye(10)[y_train]\n",
    "y_val = np.eye(10)[y_val]\n",
    "y_test = np.eye(10)[y_test]"
   ]
  },
  {
   "cell_type": "code",
   "execution_count": 115,
   "metadata": {
    "collapsed": true
   },
   "outputs": [],
   "source": [
    "import tensorflow as tf\n",
    "from sklearn.model_selection import train_test_split\n",
    "import numpy as np"
   ]
  },
  {
   "cell_type": "code",
   "execution_count": 129,
   "metadata": {
    "collapsed": true
   },
   "outputs": [],
   "source": [
    "learning_rate = 1e-3\n",
    "hidden_size = [50,30]\n",
    "input_size = 784\n",
    "output_size = 10\n",
    "epoch = 50\n",
    "batch_size = 600\n",
    "\n",
    "sizes = [input_size, output_size]"
   ]
  },
  {
   "cell_type": "code",
   "execution_count": 130,
   "metadata": {
    "collapsed": true
   },
   "outputs": [],
   "source": [
    "# weights and bias\n",
    "weight_0 = tf.Variable(1e-2 * np.random.rand(input_size, hidden_size[0]), dtype = 'float64')\n",
    "weight_1 = tf.Variable(1e-2 * np.random.rand(hidden_size[0], hidden_size[1]), dtype = 'float64')\n",
    "weight_2 = tf.Variable(1e-2 * np.random.rand(hidden_size[1], output_size), dtype = 'float64')\n",
    "weights = [weight_0, weight_1, weight_2]\n",
    "\n",
    "bias_0 = tf.Variable(np.zeros(hidden_size[0]), dtype = 'float64')\n",
    "bias_1 = tf.Variable(np.zeros(hidden_size[1]), dtype = 'float64')\n",
    "bias_2 = tf.Variable(np.zeros(output_size), dtype = 'float64')\n",
    "bias = [bias_0, bias_1, bias_2]"
   ]
  },
  {
   "cell_type": "code",
   "execution_count": 131,
   "metadata": {
    "collapsed": true
   },
   "outputs": [],
   "source": [
    "# input\n",
    "input_X = tf.placeholder(shape = (None, 784), dtype = 'float64', name = 'input_X')\n",
    "input_y = tf.placeholder(shape = (None, 10), dtype = 'int32', name = 'input_y')"
   ]
  },
  {
   "cell_type": "code",
   "execution_count": 132,
   "metadata": {
    "collapsed": true
   },
   "outputs": [],
   "source": [
    "# compute loss\n",
    "layer_0 = tf.nn.relu(tf.matmul(input_X, weights[0]) + bias[0])\n",
    "layer_1 = tf.nn.relu(tf.matmul(layer_0, weights[1]) + bias[1])\n",
    "layer_out = tf.matmul(layer_1, weights[2]) + bias[2]\n",
    "logits = tf.nn.softmax(layer_out)\n",
    "\n",
    "cross_entropy = tf.reduce_sum(tf.nn.softmax_cross_entropy_with_logits(logits = logits, labels = input_y))\n",
    "optimizer = tf.train.AdamOptimizer(learning_rate).minimize(cross_entropy)\n",
    "predict = tf.argmax(logits, 1)\n",
    "correct_prediction = tf.equal(predict, tf.argmax(input_y, 1))\n",
    "accuracy = tf.reduce_mean(tf.cast(correct_prediction, \"float\"))\n",
    "init = tf.global_variables_initializer()"
   ]
  },
  {
   "cell_type": "code",
   "execution_count": 133,
   "metadata": {},
   "outputs": [
    {
     "name": "stdout",
     "output_type": "stream",
     "text": [
      "epoch 1, training accuracy: 0.2199999988079071, val accuracy: 0.2061000019311905\n",
      "epoch 2, training accuracy: 0.2866666615009308, val accuracy: 0.28619998693466187\n",
      "epoch 3, training accuracy: 0.3583333194255829, val accuracy: 0.3490999937057495\n",
      "epoch 4, training accuracy: 0.5483333468437195, val accuracy: 0.5343999862670898\n",
      "epoch 5, training accuracy: 0.6050000190734863, val accuracy: 0.613099992275238\n",
      "epoch 6, training accuracy: 0.6700000166893005, val accuracy: 0.6919000148773193\n",
      "epoch 7, training accuracy: 0.7316666841506958, val accuracy: 0.7272999882698059\n",
      "epoch 8, training accuracy: 0.7583333253860474, val accuracy: 0.7727000117301941\n",
      "epoch 9, training accuracy: 0.8550000190734863, val accuracy: 0.8596000075340271\n",
      "epoch 10, training accuracy: 0.903333306312561, val accuracy: 0.9172000288963318\n",
      "epoch 11, training accuracy: 0.9166666865348816, val accuracy: 0.9248999953269958\n",
      "epoch 12, training accuracy: 0.92166668176651, val accuracy: 0.9294999837875366\n",
      "epoch 13, training accuracy: 0.9183333516120911, val accuracy: 0.9330999851226807\n",
      "epoch 14, training accuracy: 0.925000011920929, val accuracy: 0.935699999332428\n",
      "epoch 15, training accuracy: 0.925000011920929, val accuracy: 0.9388999938964844\n",
      "epoch 16, training accuracy: 0.9333333373069763, val accuracy: 0.9401000142097473\n",
      "epoch 17, training accuracy: 0.9350000023841858, val accuracy: 0.9413999915122986\n",
      "epoch 18, training accuracy: 0.9383333325386047, val accuracy: 0.9434000253677368\n",
      "epoch 19, training accuracy: 0.9433333277702332, val accuracy: 0.9445000290870667\n",
      "epoch 20, training accuracy: 0.9449999928474426, val accuracy: 0.9462000131607056\n",
      "epoch 21, training accuracy: 0.9433333277702332, val accuracy: 0.9470999836921692\n",
      "epoch 22, training accuracy: 0.9466666579246521, val accuracy: 0.9491000175476074\n",
      "epoch 23, training accuracy: 0.9483333230018616, val accuracy: 0.9510999917984009\n",
      "epoch 24, training accuracy: 0.9483333230018616, val accuracy: 0.9523000121116638\n",
      "epoch 25, training accuracy: 0.9516666531562805, val accuracy: 0.9524999856948853\n",
      "epoch 26, training accuracy: 0.95333331823349, val accuracy: 0.9513999819755554\n",
      "epoch 27, training accuracy: 0.9549999833106995, val accuracy: 0.9513000249862671\n",
      "epoch 28, training accuracy: 0.9549999833106995, val accuracy: 0.9520000219345093\n",
      "epoch 29, training accuracy: 0.9549999833106995, val accuracy: 0.9527000188827515\n",
      "epoch 30, training accuracy: 0.9549999833106995, val accuracy: 0.9532999992370605\n",
      "epoch 31, training accuracy: 0.9583333134651184, val accuracy: 0.9538999795913696\n",
      "epoch 32, training accuracy: 0.9583333134651184, val accuracy: 0.9528999924659729\n",
      "epoch 33, training accuracy: 0.9599999785423279, val accuracy: 0.9531999826431274\n",
      "epoch 34, training accuracy: 0.9583333134651184, val accuracy: 0.9538000226020813\n",
      "epoch 35, training accuracy: 0.9583333134651184, val accuracy: 0.9544000029563904\n",
      "epoch 36, training accuracy: 0.9566666483879089, val accuracy: 0.9538000226020813\n",
      "epoch 37, training accuracy: 0.9616666436195374, val accuracy: 0.9559000134468079\n",
      "epoch 38, training accuracy: 0.9616666436195374, val accuracy: 0.9559999704360962\n",
      "epoch 39, training accuracy: 0.9616666436195374, val accuracy: 0.9571999907493591\n",
      "epoch 40, training accuracy: 0.9616666436195374, val accuracy: 0.9580000042915344\n",
      "epoch 41, training accuracy: 0.9616666436195374, val accuracy: 0.9585000276565552\n",
      "epoch 42, training accuracy: 0.9616666436195374, val accuracy: 0.9585999846458435\n",
      "epoch 43, training accuracy: 0.9616666436195374, val accuracy: 0.9577000141143799\n",
      "epoch 44, training accuracy: 0.9633333086967468, val accuracy: 0.9560999870300293\n",
      "epoch 45, training accuracy: 0.9633333086967468, val accuracy: 0.9569000005722046\n",
      "epoch 46, training accuracy: 0.9633333086967468, val accuracy: 0.9574999809265137\n",
      "epoch 47, training accuracy: 0.9633333086967468, val accuracy: 0.9580000042915344\n",
      "epoch 48, training accuracy: 0.9649999737739563, val accuracy: 0.9581000208854675\n",
      "epoch 49, training accuracy: 0.9649999737739563, val accuracy: 0.9563999772071838\n",
      "epoch 50, training accuracy: 0.9649999737739563, val accuracy: 0.9555000066757202\n",
      "\n",
      "training finished\n",
      "test accuracy:  0.9536\n"
     ]
    }
   ],
   "source": [
    "num_train = X_train.shape[0]\n",
    "num_batch = num_train // batch_size\n",
    "validation_size = X_val.shape[0] // num_batch\n",
    "\n",
    "with tf.Session() as sess:\n",
    "    sess.run(init)\n",
    "    train_acc_hist = []\n",
    "    val_acc_hist = []\n",
    "    for e in range(epoch):\n",
    "        for i in range(num_batch):\n",
    "            X_batch = X_train[i * batch_size:(i+1)*batch_size]\n",
    "            y_batch = y_train[i * batch_size:(i+1)*batch_size]\n",
    "            sess.run(optimizer, feed_dict = {input_X: X_batch, input_y:y_batch})\n",
    "        \n",
    "        train_accuracy = accuracy.eval({input_X: X_batch, input_y: y_batch})\n",
    "        val_accuracy = accuracy.eval({input_X: X_val, input_y: y_val})\n",
    "        train_acc_hist.append(train_accuracy)\n",
    "        val_acc_hist.append(val_accuracy)\n",
    "        print('epoch {}, training accuracy: {}, val accuracy: {}'.format(e + 1, train_accuracy, val_accuracy))\n",
    "        \n",
    "    test_accuracy = accuracy.eval({input_X: X_test, input_y: y_test})\n",
    "    print('\\ntraining finished\\ntest accuracy: ', test_accuracy)"
   ]
  },
  {
   "cell_type": "code",
   "execution_count": 135,
   "metadata": {},
   "outputs": [
    {
     "data": {
      "image/png": "[encoded data removed]",
      "text/plain": [
       "<matplotlib.figure.Figure at 0x7f8d7652a080>"
      ]
     },
     "metadata": {},
     "output_type": "display_data"
    }
   ],
   "source": [
    "iterations = list(range(50))\n",
    "plt.plot(iterations, train_acc_hist, label='Train')\n",
    "plt.plot(iterations, val_acc_hist, label='Val')\n",
    "plt.ylabel('accuracy')\n",
    "plt.xlabel('iterations')\n",
    "plt.show()"
   ]
  },
  {
   "cell_type": "code",
   "execution_count": null,
   "metadata": {
    "collapsed": true
   },
   "outputs": [],
   "source": []
  }
 ],
 "metadata": {
  "kernelspec": {
   "display_name": "Python 3",
   "language": "python",
   "name": "python3"
  },
  "language_info": {
   "codemirror_mode": {
    "name": "ipython",
    "version": 3
   },
   "file_extension": ".py",
   "mimetype": "text/x-python",
   "name": "python",
   "nbconvert_exporter": "python",
   "pygments_lexer": "ipython3",
   "version": "3.6.0"
  }
 },
 "nbformat": 4,
 "nbformat_minor": 2
}
